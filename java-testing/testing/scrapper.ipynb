{
 "cells": [
  {
   "cell_type": "code",
   "execution_count": 32,
   "metadata": {},
   "outputs": [],
   "source": [
    "from selenium import webdriver"
   ]
  },
  {
   "cell_type": "code",
   "execution_count": null,
   "metadata": {},
   "outputs": [
    {
     "name": "stdout",
     "output_type": "stream",
     "text": [
      "[['provided valuable insights'], ['gain valuable insights'], ['casting long shadows'], ['provides valuable insights'], ['gain a comprehensive understanding'], ['study provides a valuable'], ['provide valuable insights'], ['left an indelible mark'], ['offers valuable insights'], ['an indelible mark'], ['an unwavering commitment'], ['play a crucial role in shaping'], ['plays a crucial role in understanding'], ['play a crucial role in understanding'], ['played a significant role in shaping'], ['left an indelible'], ['valuable insights'], ['a rich tapestry'], ['offer valuable insights'], ['opens new avenues'], ['help to feel a sense'], ['adds a layer of complexity'], ['significant contributions to the field'], ['plays a crucial role in shaping'], ['research needed to explore'], ['crucial role in shaping'], ['the intricate relationship'], ['findings contribute to'], ['continue to inspire'], ['a stark reminder'], ['hung heavy'], ['crucial role in understanding'], ['fostering a sense'], ['significant attention in recent years'], ['needed to fully understand'], ['pivotal role in shaping'], ['gain a deeper understanding'], ['study sheds light on'], ['continues to inspire'], ['implications of various'], ['highlights the importance of considering'], ['let us delve'], ['holds a significant'], ['study sheds light on'], ['garnered a significant'], ['advancing the understanding'], ['voice dripping with sarcasm'], ['conclusion of the study provides'], ['findings shed light on'], ['commitment to public service'], ['crucial to recognize'], ['provided valuable insights'], ['mix the fear'], ['crucial role in maintaining'], ['serves a reminder'], ['voice is dripping'], ['gain a deeper insights'], ['insights into the potential'], ['a significant advancement'], ['the researchers aimed'], ['significant advancements'], ['gain a deeper'], ['began to voice'], ['findings shed light on'], ['study provides valuable'], ['plays a crucial role in regulating'], ['left a lasting'], ['sense of camaraderie'], ['potential to revolutionize'], ['navigate the challenges'], ['the voice surprisingly'], ['gain a valuable'], ['understanding the behavior'], ['delve deeper into'], ['plays a crucial role in ensuring'], ['relentless pursuit'], ['significant role in shaping'], ['researchers aim to'], ['meticulously crafted'], ['study shed light on'], ['dripping with sarcasm'], ['aims to shed light'], ['voice is rising'], ['provides valuable insights'], ['play a significant role in shaping'], ['renewed sense of purpose'], ['marked a significant'], ['an enduring legacy'], ['offers numerous benefits'], ['commitment to excellence'], ['study shed light'], ['plays a crucial role in determining'], ['significant attention in recent'], ['offers a valuable'], ['plays a significant role in shaping'], ['play a crucial role in determining'], ['despite the chaos'], ['paving the way for the future'], ['highlights the significance'], ['locals and visitors alike']]\n"
     ]
    }
   ],
   "source": [
    "from selenium import webdriver\n",
    "from selenium.webdriver.common.by import By\n",
    "from webdriver_manager.chrome import ChromeDriverManager\n",
    "\n",
    "# for holding the resultant list\n",
    "element_list = []\n",
    "\n",
    "\n",
    "page_url = \"https://gptzero.me/ai-vocabulary\"\n",
    "driver = webdriver.Chrome()\n",
    "driver.get(page_url)\n",
    "title = driver.find_elements(By.CLASS_NAME, \"caption-title\")\n",
    "#price = driver.find_elements(By.CLASS_NAME, \"price\")\n",
    "#description = driver.find_elements(By.CLASS_NAME, \"description\")\n",
    "#rating = driver.find_elements(By.CLASS_NAME, \"ratings\")\n",
    "\n",
    "for i in range(len(title)):\n",
    "    element_list.append([title[i].text.strip()])\n",
    "\n",
    "print(element_list)\n",
    "#closing the driver\n",
    "driver.close()"
   ]
  },
  {
   "cell_type": "code",
   "execution_count": 51,
   "metadata": {},
   "outputs": [
    {
     "name": "stdout",
     "output_type": "stream",
     "text": [
      "['provided valuable insights', 'gain valuable insights', 'casting long shadows', 'provides valuable insights', 'gain a comprehensive understanding', 'study provides a valuable', 'provide valuable insights', 'left an indelible mark', 'offers valuable insights', 'an indelible mark', 'an unwavering commitment', 'play a crucial role in shaping', 'plays a crucial role in understanding', 'play a crucial role in understanding', 'played a significant role in shaping', 'left an indelible', 'valuable insights', 'a rich tapestry', 'offer valuable insights', 'opens new avenues', 'help to feel a sense', 'adds a layer of complexity', 'significant contributions to the field', 'plays a crucial role in shaping', 'research needed to explore', 'crucial role in shaping', 'the intricate relationship', 'findings contribute to', 'continue to inspire', 'a stark reminder', 'hung heavy', 'crucial role in understanding', 'fostering a sense', 'significant attention in recent years', 'needed to fully understand', 'pivotal role in shaping', 'gain a deeper understanding', 'study sheds light on', 'continues to inspire', 'implications of various', 'highlights the importance of considering', 'let us delve', 'holds a significant', 'study sheds light on', 'garnered a significant', 'advancing the understanding', 'voice dripping with sarcasm', 'conclusion of the study provides', 'findings shed light on', 'commitment to public service', 'crucial to recognize', 'provided valuable insights', 'mix the fear', 'crucial role in maintaining', 'serves a reminder', 'voice is dripping', 'gain a deeper insights', 'insights into the potential', 'a significant advancement', 'the researchers aimed', 'significant advancements', 'gain a deeper', 'began to voice', 'findings shed light on', 'study provides valuable', 'plays a crucial role in regulating', 'left a lasting', 'sense of camaraderie', 'potential to revolutionize', 'navigate the challenges', 'the voice surprisingly', 'gain a valuable', 'understanding the behavior', 'delve deeper into', 'plays a crucial role in ensuring', 'relentless pursuit', 'significant role in shaping', 'researchers aim to', 'meticulously crafted', 'study shed light on', 'dripping with sarcasm', 'aims to shed light', 'voice is rising', 'provides valuable insights', 'play a significant role in shaping', 'renewed sense of purpose', 'marked a significant', 'an enduring legacy', 'offers numerous benefits', 'commitment to excellence', 'study shed light', 'plays a crucial role in determining', 'significant attention in recent', 'offers a valuable', 'plays a significant role in shaping', 'play a crucial role in determining', 'despite the chaos', 'paving the way for the future', 'highlights the significance', 'locals and visitors alike']\n"
     ]
    }
   ],
   "source": [
    "# Strip the text of each element in the list\n",
    "stripped_list = [element[0] for element in element_list]\n",
    "print(stripped_list)"
   ]
  }
 ],
 "metadata": {
  "kernelspec": {
   "display_name": "Python 3",
   "language": "python",
   "name": "python3"
  },
  "language_info": {
   "codemirror_mode": {
    "name": "ipython",
    "version": 3
   },
   "file_extension": ".py",
   "mimetype": "text/x-python",
   "name": "python",
   "nbconvert_exporter": "python",
   "pygments_lexer": "ipython3",
   "version": "3.12.5"
  }
 },
 "nbformat": 4,
 "nbformat_minor": 2
}
